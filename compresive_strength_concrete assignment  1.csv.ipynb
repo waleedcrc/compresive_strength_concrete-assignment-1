{
 "cells": [
  {
   "cell_type": "markdown",
   "metadata": {},
   "source": [
    "# WORKFLOW :\n",
    "Load Data\n",
    "\n",
    "Check Missing Values ( If Exist ; Fill each record with mean of its feature )\n",
    "\n",
    "\n",
    "Split into 50% Training(Samples,Labels) , 30% Test(Samples,Labels) and 20% Validation Data(Samples,Labels).\n",
    "\n",
    "\n",
    "Model : input Layer (No. of features ), 3 hidden layers including 10,8,6 unit & Output Layer with activation function relu/tanh \n",
    "\n",
    "(check by experiment).\n",
    "\n",
    "\n",
    "Compilation Step (Note : Its a Regression problem , select loss , metrics according to it)\n",
    "\n",
    "\n",
    "Train the Model with Epochs (100) and validate it\n",
    "\n",
    "\n",
    "If the model gets overfit tune your model by changing the units , No. of layers , activation function , epochs , add dropout \n",
    "\n",
    "layer or add Regularizer according to the need .\n",
    "\n",
    "\n",
    "Evaluation Step\n",
    "\n",
    "\n",
    "Prediction "
   ]
  },
  {
   "cell_type": "markdown",
   "metadata": {},
   "source": [
    "# first step : Load all the necessary libraries"
   ]
  },
  {
   "cell_type": "code",
   "execution_count": 194,
   "metadata": {},
   "outputs": [],
   "source": [
    "import pandas as pd\n",
    "import numpy as np\n",
    "import tensorflow as tf\n",
    "import matplotlib.pylab as plt"
   ]
  },
  {
   "cell_type": "code",
   "execution_count": 195,
   "metadata": {},
   "outputs": [],
   "source": [
    "from sklearn.model_selection import train_test_split"
   ]
  },
  {
   "cell_type": "markdown",
   "metadata": {},
   "source": [
    "# second step :load data"
   ]
  },
  {
   "cell_type": "code",
   "execution_count": 196,
   "metadata": {},
   "outputs": [],
   "source": [
    "dataframe = pd.read_csv(r\"C:\\Users\\Waleed\\Desktop\\data analysis\\Deep learning\\compresive_strength_concrete assignment  1.csv\")"
   ]
  },
  {
   "cell_type": "code",
   "execution_count": 197,
   "metadata": {},
   "outputs": [],
   "source": [
    "#print (dataframe)\n",
    "#dataframe\n",
    "#display(dataframe)"
   ]
  },
  {
   "cell_type": "markdown",
   "metadata": {},
   "source": [
    "# Check Missing Values ( If Exist ; Fill each record with mean of its feature )"
   ]
  },
  {
   "cell_type": "code",
   "execution_count": 203,
   "metadata": {},
   "outputs": [
    {
     "data": {
      "text/html": [
       "<div>\n",
       "<style scoped>\n",
       "    .dataframe tbody tr th:only-of-type {\n",
       "        vertical-align: middle;\n",
       "    }\n",
       "\n",
       "    .dataframe tbody tr th {\n",
       "        vertical-align: top;\n",
       "    }\n",
       "\n",
       "    .dataframe thead th {\n",
       "        text-align: right;\n",
       "    }\n",
       "</style>\n",
       "<table border=\"1\" class=\"dataframe\">\n",
       "  <thead>\n",
       "    <tr style=\"text-align: right;\">\n",
       "      <th></th>\n",
       "      <th>cement</th>\n",
       "      <th>blast</th>\n",
       "      <th>flyash</th>\n",
       "      <th>water</th>\n",
       "      <th>superplasticiser</th>\n",
       "      <th>coarse</th>\n",
       "      <th>fine</th>\n",
       "      <th>age</th>\n",
       "      <th>ccs</th>\n",
       "    </tr>\n",
       "  </thead>\n",
       "  <tbody>\n",
       "    <tr>\n",
       "      <td>0</td>\n",
       "      <td>540.0</td>\n",
       "      <td>0.0</td>\n",
       "      <td>0.0</td>\n",
       "      <td>162.0</td>\n",
       "      <td>2.5</td>\n",
       "      <td>1040.0</td>\n",
       "      <td>676.0</td>\n",
       "      <td>28</td>\n",
       "      <td>79.99</td>\n",
       "    </tr>\n",
       "    <tr>\n",
       "      <td>1</td>\n",
       "      <td>540.0</td>\n",
       "      <td>0.0</td>\n",
       "      <td>0.0</td>\n",
       "      <td>162.0</td>\n",
       "      <td>2.5</td>\n",
       "      <td>1055.0</td>\n",
       "      <td>676.0</td>\n",
       "      <td>28</td>\n",
       "      <td>61.89</td>\n",
       "    </tr>\n",
       "    <tr>\n",
       "      <td>2</td>\n",
       "      <td>332.5</td>\n",
       "      <td>142.5</td>\n",
       "      <td>0.0</td>\n",
       "      <td>228.0</td>\n",
       "      <td>0.0</td>\n",
       "      <td>932.0</td>\n",
       "      <td>594.0</td>\n",
       "      <td>270</td>\n",
       "      <td>40.27</td>\n",
       "    </tr>\n",
       "    <tr>\n",
       "      <td>3</td>\n",
       "      <td>332.5</td>\n",
       "      <td>142.5</td>\n",
       "      <td>0.0</td>\n",
       "      <td>228.0</td>\n",
       "      <td>0.0</td>\n",
       "      <td>932.0</td>\n",
       "      <td>594.0</td>\n",
       "      <td>365</td>\n",
       "      <td>41.05</td>\n",
       "    </tr>\n",
       "    <tr>\n",
       "      <td>4</td>\n",
       "      <td>198.6</td>\n",
       "      <td>132.4</td>\n",
       "      <td>0.0</td>\n",
       "      <td>192.0</td>\n",
       "      <td>0.0</td>\n",
       "      <td>978.4</td>\n",
       "      <td>825.5</td>\n",
       "      <td>360</td>\n",
       "      <td>44.30</td>\n",
       "    </tr>\n",
       "  </tbody>\n",
       "</table>\n",
       "</div>"
      ],
      "text/plain": [
       "   cement  blast  flyash  water  superplasticiser  coarse   fine  age    ccs\n",
       "0   540.0    0.0     0.0  162.0               2.5  1040.0  676.0   28  79.99\n",
       "1   540.0    0.0     0.0  162.0               2.5  1055.0  676.0   28  61.89\n",
       "2   332.5  142.5     0.0  228.0               0.0   932.0  594.0  270  40.27\n",
       "3   332.5  142.5     0.0  228.0               0.0   932.0  594.0  365  41.05\n",
       "4   198.6  132.4     0.0  192.0               0.0   978.4  825.5  360  44.30"
      ]
     },
     "execution_count": 203,
     "metadata": {},
     "output_type": "execute_result"
    }
   ],
   "source": [
    "dataframe.head()# checking data proper clearly"
   ]
  },
  {
   "cell_type": "code",
   "execution_count": 204,
   "metadata": {},
   "outputs": [
    {
     "data": {
      "text/html": [
       "<div>\n",
       "<style scoped>\n",
       "    .dataframe tbody tr th:only-of-type {\n",
       "        vertical-align: middle;\n",
       "    }\n",
       "\n",
       "    .dataframe tbody tr th {\n",
       "        vertical-align: top;\n",
       "    }\n",
       "\n",
       "    .dataframe thead th {\n",
       "        text-align: right;\n",
       "    }\n",
       "</style>\n",
       "<table border=\"1\" class=\"dataframe\">\n",
       "  <thead>\n",
       "    <tr style=\"text-align: right;\">\n",
       "      <th></th>\n",
       "      <th>cement</th>\n",
       "      <th>blast</th>\n",
       "      <th>flyash</th>\n",
       "      <th>water</th>\n",
       "      <th>superplasticiser</th>\n",
       "      <th>coarse</th>\n",
       "      <th>fine</th>\n",
       "      <th>age</th>\n",
       "      <th>ccs</th>\n",
       "    </tr>\n",
       "  </thead>\n",
       "  <tbody>\n",
       "    <tr>\n",
       "      <td>0</td>\n",
       "      <td>False</td>\n",
       "      <td>False</td>\n",
       "      <td>False</td>\n",
       "      <td>False</td>\n",
       "      <td>False</td>\n",
       "      <td>False</td>\n",
       "      <td>False</td>\n",
       "      <td>False</td>\n",
       "      <td>False</td>\n",
       "    </tr>\n",
       "    <tr>\n",
       "      <td>1</td>\n",
       "      <td>False</td>\n",
       "      <td>False</td>\n",
       "      <td>False</td>\n",
       "      <td>False</td>\n",
       "      <td>False</td>\n",
       "      <td>False</td>\n",
       "      <td>False</td>\n",
       "      <td>False</td>\n",
       "      <td>False</td>\n",
       "    </tr>\n",
       "    <tr>\n",
       "      <td>2</td>\n",
       "      <td>False</td>\n",
       "      <td>False</td>\n",
       "      <td>False</td>\n",
       "      <td>False</td>\n",
       "      <td>False</td>\n",
       "      <td>False</td>\n",
       "      <td>False</td>\n",
       "      <td>False</td>\n",
       "      <td>False</td>\n",
       "    </tr>\n",
       "    <tr>\n",
       "      <td>3</td>\n",
       "      <td>False</td>\n",
       "      <td>False</td>\n",
       "      <td>False</td>\n",
       "      <td>False</td>\n",
       "      <td>False</td>\n",
       "      <td>False</td>\n",
       "      <td>False</td>\n",
       "      <td>False</td>\n",
       "      <td>False</td>\n",
       "    </tr>\n",
       "    <tr>\n",
       "      <td>4</td>\n",
       "      <td>False</td>\n",
       "      <td>False</td>\n",
       "      <td>False</td>\n",
       "      <td>False</td>\n",
       "      <td>False</td>\n",
       "      <td>False</td>\n",
       "      <td>False</td>\n",
       "      <td>False</td>\n",
       "      <td>False</td>\n",
       "    </tr>\n",
       "  </tbody>\n",
       "</table>\n",
       "</div>"
      ],
      "text/plain": [
       "   cement  blast  flyash  water  superplasticiser  coarse   fine    age    ccs\n",
       "0   False  False   False  False             False   False  False  False  False\n",
       "1   False  False   False  False             False   False  False  False  False\n",
       "2   False  False   False  False             False   False  False  False  False\n",
       "3   False  False   False  False             False   False  False  False  False\n",
       "4   False  False   False  False             False   False  False  False  False"
      ]
     },
     "execution_count": 204,
     "metadata": {},
     "output_type": "execute_result"
    }
   ],
   "source": [
    "dataframe.head().isnull()#isnull new DataFrame with True & False data "
   ]
  },
  {
   "cell_type": "code",
   "execution_count": 205,
   "metadata": {},
   "outputs": [
    {
     "data": {
      "text/plain": [
       "0"
      ]
     },
     "execution_count": 205,
     "metadata": {},
     "output_type": "execute_result"
    }
   ],
   "source": [
    "dataframe.isnull().sum().sum()#they function how many NaN in your data \"the DataFrame returned by isnull() will give the count of total NaN in dataframe\"."
   ]
  },
  {
   "cell_type": "code",
   "execution_count": 206,
   "metadata": {},
   "outputs": [
    {
     "data": {
      "text/plain": [
       "cement              0\n",
       "blast               0\n",
       "flyash              0\n",
       "water               0\n",
       "superplasticiser    0\n",
       "coarse              0\n",
       "fine                0\n",
       "age                 0\n",
       "ccs                 0\n",
       "dtype: int64"
      ]
     },
     "execution_count": 206,
     "metadata": {},
     "output_type": "execute_result"
    }
   ],
   "source": [
    "dataframe.isnull().sum()#if i one remove sum() the DataFrame returned by isnull() will give a series containing data about count of NaN "
   ]
  },
  {
   "cell_type": "code",
   "execution_count": 202,
   "metadata": {},
   "outputs": [],
   "source": [
    "dataframe.columns=[\"cement\",\"blast\",\"flyash\",\"water\",\"superplasticiser\",\"coarse\",\"fine\",\"age\",\"ccs\"]#change its columns name\n"
   ]
  },
  {
   "cell_type": "code",
   "execution_count": 106,
   "metadata": {},
   "outputs": [
    {
     "data": {
      "text/plain": [
       "RangeIndex(start=0, stop=1030, step=1)"
      ]
     },
     "execution_count": 106,
     "metadata": {},
     "output_type": "execute_result"
    }
   ],
   "source": [
    "dataframe.index"
   ]
  },
  {
   "cell_type": "code",
   "execution_count": 207,
   "metadata": {},
   "outputs": [
    {
     "data": {
      "text/html": [
       "<div>\n",
       "<style scoped>\n",
       "    .dataframe tbody tr th:only-of-type {\n",
       "        vertical-align: middle;\n",
       "    }\n",
       "\n",
       "    .dataframe tbody tr th {\n",
       "        vertical-align: top;\n",
       "    }\n",
       "\n",
       "    .dataframe thead th {\n",
       "        text-align: right;\n",
       "    }\n",
       "</style>\n",
       "<table border=\"1\" class=\"dataframe\">\n",
       "  <thead>\n",
       "    <tr style=\"text-align: right;\">\n",
       "      <th></th>\n",
       "      <th>cement</th>\n",
       "      <th>blast</th>\n",
       "      <th>flyash</th>\n",
       "      <th>water</th>\n",
       "      <th>superplasticiser</th>\n",
       "      <th>coarse</th>\n",
       "      <th>fine</th>\n",
       "      <th>age</th>\n",
       "      <th>ccs</th>\n",
       "    </tr>\n",
       "  </thead>\n",
       "  <tbody>\n",
       "    <tr>\n",
       "      <td>0</td>\n",
       "      <td>540.0</td>\n",
       "      <td>0.0</td>\n",
       "      <td>0.0</td>\n",
       "      <td>162.0</td>\n",
       "      <td>2.5</td>\n",
       "      <td>1040.0</td>\n",
       "      <td>676.0</td>\n",
       "      <td>28</td>\n",
       "      <td>79.99</td>\n",
       "    </tr>\n",
       "    <tr>\n",
       "      <td>1</td>\n",
       "      <td>540.0</td>\n",
       "      <td>0.0</td>\n",
       "      <td>0.0</td>\n",
       "      <td>162.0</td>\n",
       "      <td>2.5</td>\n",
       "      <td>1055.0</td>\n",
       "      <td>676.0</td>\n",
       "      <td>28</td>\n",
       "      <td>61.89</td>\n",
       "    </tr>\n",
       "    <tr>\n",
       "      <td>2</td>\n",
       "      <td>332.5</td>\n",
       "      <td>142.5</td>\n",
       "      <td>0.0</td>\n",
       "      <td>228.0</td>\n",
       "      <td>0.0</td>\n",
       "      <td>932.0</td>\n",
       "      <td>594.0</td>\n",
       "      <td>270</td>\n",
       "      <td>40.27</td>\n",
       "    </tr>\n",
       "    <tr>\n",
       "      <td>3</td>\n",
       "      <td>332.5</td>\n",
       "      <td>142.5</td>\n",
       "      <td>0.0</td>\n",
       "      <td>228.0</td>\n",
       "      <td>0.0</td>\n",
       "      <td>932.0</td>\n",
       "      <td>594.0</td>\n",
       "      <td>365</td>\n",
       "      <td>41.05</td>\n",
       "    </tr>\n",
       "    <tr>\n",
       "      <td>4</td>\n",
       "      <td>198.6</td>\n",
       "      <td>132.4</td>\n",
       "      <td>0.0</td>\n",
       "      <td>192.0</td>\n",
       "      <td>0.0</td>\n",
       "      <td>978.4</td>\n",
       "      <td>825.5</td>\n",
       "      <td>360</td>\n",
       "      <td>44.30</td>\n",
       "    </tr>\n",
       "    <tr>\n",
       "      <td>...</td>\n",
       "      <td>...</td>\n",
       "      <td>...</td>\n",
       "      <td>...</td>\n",
       "      <td>...</td>\n",
       "      <td>...</td>\n",
       "      <td>...</td>\n",
       "      <td>...</td>\n",
       "      <td>...</td>\n",
       "      <td>...</td>\n",
       "    </tr>\n",
       "    <tr>\n",
       "      <td>1025</td>\n",
       "      <td>276.4</td>\n",
       "      <td>116.0</td>\n",
       "      <td>90.3</td>\n",
       "      <td>179.6</td>\n",
       "      <td>8.9</td>\n",
       "      <td>870.1</td>\n",
       "      <td>768.3</td>\n",
       "      <td>28</td>\n",
       "      <td>44.28</td>\n",
       "    </tr>\n",
       "    <tr>\n",
       "      <td>1026</td>\n",
       "      <td>322.2</td>\n",
       "      <td>0.0</td>\n",
       "      <td>115.6</td>\n",
       "      <td>196.0</td>\n",
       "      <td>10.4</td>\n",
       "      <td>817.9</td>\n",
       "      <td>813.4</td>\n",
       "      <td>28</td>\n",
       "      <td>31.18</td>\n",
       "    </tr>\n",
       "    <tr>\n",
       "      <td>1027</td>\n",
       "      <td>148.5</td>\n",
       "      <td>139.4</td>\n",
       "      <td>108.6</td>\n",
       "      <td>192.7</td>\n",
       "      <td>6.1</td>\n",
       "      <td>892.4</td>\n",
       "      <td>780.0</td>\n",
       "      <td>28</td>\n",
       "      <td>23.70</td>\n",
       "    </tr>\n",
       "    <tr>\n",
       "      <td>1028</td>\n",
       "      <td>159.1</td>\n",
       "      <td>186.7</td>\n",
       "      <td>0.0</td>\n",
       "      <td>175.6</td>\n",
       "      <td>11.3</td>\n",
       "      <td>989.6</td>\n",
       "      <td>788.9</td>\n",
       "      <td>28</td>\n",
       "      <td>32.77</td>\n",
       "    </tr>\n",
       "    <tr>\n",
       "      <td>1029</td>\n",
       "      <td>260.9</td>\n",
       "      <td>100.5</td>\n",
       "      <td>78.3</td>\n",
       "      <td>200.6</td>\n",
       "      <td>8.6</td>\n",
       "      <td>864.5</td>\n",
       "      <td>761.5</td>\n",
       "      <td>28</td>\n",
       "      <td>32.40</td>\n",
       "    </tr>\n",
       "  </tbody>\n",
       "</table>\n",
       "<p>1030 rows × 9 columns</p>\n",
       "</div>"
      ],
      "text/plain": [
       "      cement  blast  flyash  water  superplasticiser  coarse   fine  age  \\\n",
       "0      540.0    0.0     0.0  162.0               2.5  1040.0  676.0   28   \n",
       "1      540.0    0.0     0.0  162.0               2.5  1055.0  676.0   28   \n",
       "2      332.5  142.5     0.0  228.0               0.0   932.0  594.0  270   \n",
       "3      332.5  142.5     0.0  228.0               0.0   932.0  594.0  365   \n",
       "4      198.6  132.4     0.0  192.0               0.0   978.4  825.5  360   \n",
       "...      ...    ...     ...    ...               ...     ...    ...  ...   \n",
       "1025   276.4  116.0    90.3  179.6               8.9   870.1  768.3   28   \n",
       "1026   322.2    0.0   115.6  196.0              10.4   817.9  813.4   28   \n",
       "1027   148.5  139.4   108.6  192.7               6.1   892.4  780.0   28   \n",
       "1028   159.1  186.7     0.0  175.6              11.3   989.6  788.9   28   \n",
       "1029   260.9  100.5    78.3  200.6               8.6   864.5  761.5   28   \n",
       "\n",
       "        ccs  \n",
       "0     79.99  \n",
       "1     61.89  \n",
       "2     40.27  \n",
       "3     41.05  \n",
       "4     44.30  \n",
       "...     ...  \n",
       "1025  44.28  \n",
       "1026  31.18  \n",
       "1027  23.70  \n",
       "1028  32.77  \n",
       "1029  32.40  \n",
       "\n",
       "[1030 rows x 9 columns]"
      ]
     },
     "execution_count": 207,
     "metadata": {},
     "output_type": "execute_result"
    }
   ],
   "source": [
    "dataframe"
   ]
  },
  {
   "cell_type": "code",
   "execution_count": 108,
   "metadata": {},
   "outputs": [],
   "source": [
    "col = list(dataframe.columns)#changen all data conver into NaN values \n",
    "for i in col:\n",
    "    dataframe[i]=(dataframe[i]-dataframe[i].mean())/dataframe[i].std(ddof=0)\n",
    "#dataframe.head()\n",
    "#print (dataframe)\n",
    "#display(dataframe)\n",
    "#dataframe\n",
    "#dataframe.cement\n",
    "#col\n",
    "#dataframe[i].mean"
   ]
  },
  {
   "cell_type": "code",
   "execution_count": 173,
   "metadata": {},
   "outputs": [],
   "source": [
    "#plt.hist(dataframe)#hist function show graph and array and take time"
   ]
  },
  {
   "cell_type": "markdown",
   "metadata": {},
   "source": [
    "# feature"
   ]
  },
  {
   "cell_type": "code",
   "execution_count": 208,
   "metadata": {},
   "outputs": [],
   "source": [
    "target=dataframe.age\n",
    "features=dataframe.drop(\"ccs\", axis = 1)\n",
    "#features=dataframe.drop(\"ccs\",axis = 1)#axis must be 1 always Remove rows or columns by specifying label names\n",
    "# specifying directly index or column names.\n"
   ]
  },
  {
   "cell_type": "code",
   "execution_count": 209,
   "metadata": {},
   "outputs": [
    {
     "name": "stdout",
     "output_type": "stream",
     "text": [
      "0        28\n",
      "1        28\n",
      "2       270\n",
      "3       365\n",
      "4       360\n",
      "       ... \n",
      "1025     28\n",
      "1026     28\n",
      "1027     28\n",
      "1028     28\n",
      "1029     28\n",
      "Name: age, Length: 1030, dtype: int64\n"
     ]
    },
    {
     "data": {
      "text/html": [
       "<div>\n",
       "<style scoped>\n",
       "    .dataframe tbody tr th:only-of-type {\n",
       "        vertical-align: middle;\n",
       "    }\n",
       "\n",
       "    .dataframe tbody tr th {\n",
       "        vertical-align: top;\n",
       "    }\n",
       "\n",
       "    .dataframe thead th {\n",
       "        text-align: right;\n",
       "    }\n",
       "</style>\n",
       "<table border=\"1\" class=\"dataframe\">\n",
       "  <thead>\n",
       "    <tr style=\"text-align: right;\">\n",
       "      <th></th>\n",
       "      <th>cement</th>\n",
       "      <th>blast</th>\n",
       "      <th>flyash</th>\n",
       "      <th>water</th>\n",
       "      <th>superplasticiser</th>\n",
       "      <th>coarse</th>\n",
       "      <th>fine</th>\n",
       "      <th>age</th>\n",
       "    </tr>\n",
       "  </thead>\n",
       "  <tbody>\n",
       "    <tr>\n",
       "      <td>0</td>\n",
       "      <td>540.0</td>\n",
       "      <td>0.0</td>\n",
       "      <td>0.0</td>\n",
       "      <td>162.0</td>\n",
       "      <td>2.5</td>\n",
       "      <td>1040.0</td>\n",
       "      <td>676.0</td>\n",
       "      <td>28</td>\n",
       "    </tr>\n",
       "    <tr>\n",
       "      <td>1</td>\n",
       "      <td>540.0</td>\n",
       "      <td>0.0</td>\n",
       "      <td>0.0</td>\n",
       "      <td>162.0</td>\n",
       "      <td>2.5</td>\n",
       "      <td>1055.0</td>\n",
       "      <td>676.0</td>\n",
       "      <td>28</td>\n",
       "    </tr>\n",
       "    <tr>\n",
       "      <td>2</td>\n",
       "      <td>332.5</td>\n",
       "      <td>142.5</td>\n",
       "      <td>0.0</td>\n",
       "      <td>228.0</td>\n",
       "      <td>0.0</td>\n",
       "      <td>932.0</td>\n",
       "      <td>594.0</td>\n",
       "      <td>270</td>\n",
       "    </tr>\n",
       "    <tr>\n",
       "      <td>3</td>\n",
       "      <td>332.5</td>\n",
       "      <td>142.5</td>\n",
       "      <td>0.0</td>\n",
       "      <td>228.0</td>\n",
       "      <td>0.0</td>\n",
       "      <td>932.0</td>\n",
       "      <td>594.0</td>\n",
       "      <td>365</td>\n",
       "    </tr>\n",
       "    <tr>\n",
       "      <td>4</td>\n",
       "      <td>198.6</td>\n",
       "      <td>132.4</td>\n",
       "      <td>0.0</td>\n",
       "      <td>192.0</td>\n",
       "      <td>0.0</td>\n",
       "      <td>978.4</td>\n",
       "      <td>825.5</td>\n",
       "      <td>360</td>\n",
       "    </tr>\n",
       "    <tr>\n",
       "      <td>...</td>\n",
       "      <td>...</td>\n",
       "      <td>...</td>\n",
       "      <td>...</td>\n",
       "      <td>...</td>\n",
       "      <td>...</td>\n",
       "      <td>...</td>\n",
       "      <td>...</td>\n",
       "      <td>...</td>\n",
       "    </tr>\n",
       "    <tr>\n",
       "      <td>1025</td>\n",
       "      <td>276.4</td>\n",
       "      <td>116.0</td>\n",
       "      <td>90.3</td>\n",
       "      <td>179.6</td>\n",
       "      <td>8.9</td>\n",
       "      <td>870.1</td>\n",
       "      <td>768.3</td>\n",
       "      <td>28</td>\n",
       "    </tr>\n",
       "    <tr>\n",
       "      <td>1026</td>\n",
       "      <td>322.2</td>\n",
       "      <td>0.0</td>\n",
       "      <td>115.6</td>\n",
       "      <td>196.0</td>\n",
       "      <td>10.4</td>\n",
       "      <td>817.9</td>\n",
       "      <td>813.4</td>\n",
       "      <td>28</td>\n",
       "    </tr>\n",
       "    <tr>\n",
       "      <td>1027</td>\n",
       "      <td>148.5</td>\n",
       "      <td>139.4</td>\n",
       "      <td>108.6</td>\n",
       "      <td>192.7</td>\n",
       "      <td>6.1</td>\n",
       "      <td>892.4</td>\n",
       "      <td>780.0</td>\n",
       "      <td>28</td>\n",
       "    </tr>\n",
       "    <tr>\n",
       "      <td>1028</td>\n",
       "      <td>159.1</td>\n",
       "      <td>186.7</td>\n",
       "      <td>0.0</td>\n",
       "      <td>175.6</td>\n",
       "      <td>11.3</td>\n",
       "      <td>989.6</td>\n",
       "      <td>788.9</td>\n",
       "      <td>28</td>\n",
       "    </tr>\n",
       "    <tr>\n",
       "      <td>1029</td>\n",
       "      <td>260.9</td>\n",
       "      <td>100.5</td>\n",
       "      <td>78.3</td>\n",
       "      <td>200.6</td>\n",
       "      <td>8.6</td>\n",
       "      <td>864.5</td>\n",
       "      <td>761.5</td>\n",
       "      <td>28</td>\n",
       "    </tr>\n",
       "  </tbody>\n",
       "</table>\n",
       "<p>1030 rows × 8 columns</p>\n",
       "</div>"
      ],
      "text/plain": [
       "      cement  blast  flyash  water  superplasticiser  coarse   fine  age\n",
       "0      540.0    0.0     0.0  162.0               2.5  1040.0  676.0   28\n",
       "1      540.0    0.0     0.0  162.0               2.5  1055.0  676.0   28\n",
       "2      332.5  142.5     0.0  228.0               0.0   932.0  594.0  270\n",
       "3      332.5  142.5     0.0  228.0               0.0   932.0  594.0  365\n",
       "4      198.6  132.4     0.0  192.0               0.0   978.4  825.5  360\n",
       "...      ...    ...     ...    ...               ...     ...    ...  ...\n",
       "1025   276.4  116.0    90.3  179.6               8.9   870.1  768.3   28\n",
       "1026   322.2    0.0   115.6  196.0              10.4   817.9  813.4   28\n",
       "1027   148.5  139.4   108.6  192.7               6.1   892.4  780.0   28\n",
       "1028   159.1  186.7     0.0  175.6              11.3   989.6  788.9   28\n",
       "1029   260.9  100.5    78.3  200.6               8.6   864.5  761.5   28\n",
       "\n",
       "[1030 rows x 8 columns]"
      ]
     },
     "execution_count": 209,
     "metadata": {},
     "output_type": "execute_result"
    }
   ],
   "source": [
    "print (target)\n",
    "features"
   ]
  },
  {
   "cell_type": "markdown",
   "metadata": {},
   "source": [
    "# Step 3 :  Split into 50% Training(Samples,Labels) , 30% Test(Samples,Labels) and 20% Validation Data(Samples,Labels)."
   ]
  },
  {
   "cell_type": "code",
   "execution_count": 210,
   "metadata": {},
   "outputs": [],
   "source": [
    "X_train,X_test,y_train,y_test = train_test_split(features,target,test_size = 0.2,train_size = 0.8)#yaha sa kr na hai\n",
    "\n",
    "\n",
    "#X_train,X_test,Y_train,Y_test=train_test_split(features,target,test_size=0.2)\n",
    "\n",
    "#X_train.head()"
   ]
  },
  {
   "cell_type": "markdown",
   "metadata": {},
   "source": [
    "# check number of len"
   ]
  },
  {
   "cell_type": "code",
   "execution_count": 211,
   "metadata": {},
   "outputs": [
    {
     "name": "stdout",
     "output_type": "stream",
     "text": [
      "824\n",
      "206\n",
      "824\n",
      "206\n"
     ]
    }
   ],
   "source": [
    "print(len(X_train))\n",
    "print(len(X_test))\n",
    "print(len(y_train))\n",
    "print(len(y_test))"
   ]
  },
  {
   "cell_type": "markdown",
   "metadata": {},
   "source": [
    "# check  number in shape"
   ]
  },
  {
   "cell_type": "code",
   "execution_count": 212,
   "metadata": {},
   "outputs": [
    {
     "name": "stdout",
     "output_type": "stream",
     "text": [
      "(824, 8)\n",
      "(206, 8)\n",
      "(824,)\n",
      "(206,)\n"
     ]
    }
   ],
   "source": [
    "print(X_train.shape)\n",
    "print(X_test.shape)\n",
    "print(y_train.shape)\n",
    "print(y_test.shape)"
   ]
  },
  {
   "cell_type": "markdown",
   "metadata": {},
   "source": [
    "# step 4 \n",
    "## Model : input Layer (No. of features )\n",
    "\n",
    "## 3 hidden layers including 10,8,6 unit & Output Layer with activation function relu/tanh"
   ]
  },
  {
   "cell_type": "code",
   "execution_count": 213,
   "metadata": {},
   "outputs": [],
   "source": [
    "from tensorflow.keras.models import Sequential # its use densly connected layers\n",
    "from tensorflow.keras.layers import Dense # dense function first create array\n",
    "from tensorflow.keras.layers import Activation# activation function built in \"relu\"\n"
   ]
  },
  {
   "cell_type": "code",
   "execution_count": 214,
   "metadata": {},
   "outputs": [
    {
     "name": "stdout",
     "output_type": "stream",
     "text": [
      "Model: \"sequential_11\"\n",
      "_________________________________________________________________\n",
      "Layer (type)                 Output Shape              Param #   \n",
      "=================================================================\n",
      "dense_33 (Dense)             (None, 12)                108       \n",
      "_________________________________________________________________\n",
      "dense_34 (Dense)             (None, 8)                 104       \n",
      "_________________________________________________________________\n",
      "dense_35 (Dense)             (None, 1)                 9         \n",
      "=================================================================\n",
      "Total params: 221\n",
      "Trainable params: 221\n",
      "Non-trainable params: 0\n",
      "_________________________________________________________________\n"
     ]
    }
   ],
   "source": [
    "model = Sequential()\n",
    "model.add(Dense(12, input_dim=8, activation='relu'))\n",
    "model.add(Dense(8, activation='relu'))\n",
    "model.add(Dense(1, activation='sigmoid'))\n",
    "model.summary()"
   ]
  },
  {
   "cell_type": "code",
   "execution_count": 215,
   "metadata": {},
   "outputs": [],
   "source": [
    "from tensorflow.keras.models import Sequential # its use densly connected layers\n",
    "from tensorflow.keras.layers import Dense # dense function first create array\n",
    "from tensorflow.keras.layers import Activation# activation function built in \"relu\"\n",
    "#encoded_y_test"
   ]
  },
  {
   "cell_type": "code",
   "execution_count": 216,
   "metadata": {},
   "outputs": [
    {
     "name": "stdout",
     "output_type": "stream",
     "text": [
      "Model: \"sequential_12\"\n",
      "_________________________________________________________________\n",
      "Layer (type)                 Output Shape              Param #   \n",
      "=================================================================\n",
      "dense_36 (Dense)             (None, 12)                108       \n",
      "_________________________________________________________________\n",
      "dense_37 (Dense)             (None, 8)                 104       \n",
      "_________________________________________________________________\n",
      "dense_38 (Dense)             (None, 1)                 9         \n",
      "=================================================================\n",
      "Total params: 221\n",
      "Trainable params: 221\n",
      "Non-trainable params: 0\n",
      "_________________________________________________________________\n"
     ]
    }
   ],
   "source": [
    "model = Sequential()\n",
    "model.add(Dense(12, input_dim=8, activation='relu'))\n",
    "model.add(Dense(8, activation='relu'))\n",
    "model.add(Dense(1, activation='sigmoid'))\n",
    "model.summary()"
   ]
  },
  {
   "cell_type": "markdown",
   "metadata": {},
   "source": [
    "# Step : 5     \n",
    "\n",
    "# Compilation Step (Note : Its a Regression problem , select loss , metrics according to it)"
   ]
  },
  {
   "cell_type": "code",
   "execution_count": 220,
   "metadata": {},
   "outputs": [],
   "source": [
    "model.compile(loss='binary_crossentropy', optimizer='adam', metrics=['accuracy'])"
   ]
  },
  {
   "cell_type": "markdown",
   "metadata": {},
   "source": [
    "# Step : 6 Train the Model with Epochs (100) and validate it\n",
    "\n",
    "\n",
    "## If the model gets overfit tune your model by changing the units , No. of layers , activation function , epochs , add dropout layer     or add regularizer according to the need\n"
   ]
  },
  {
   "cell_type": "code",
   "execution_count": 221,
   "metadata": {},
   "outputs": [
    {
     "name": "stdout",
     "output_type": "stream",
     "text": [
      "Train on 659 samples, validate on 165 samples\n",
      "Epoch 1/100\n",
      "659/659 [==============================] - 2s 2ms/sample - loss: -5.2675 - accuracy: 0.0000e+00 - val_loss: -5.7241 - val_accuracy: 0.0061\n",
      "Epoch 2/100\n",
      "659/659 [==============================] - 0s 156us/sample - loss: -8.9456 - accuracy: 0.0000e+00 - val_loss: -8.6410 - val_accuracy: 0.0061\n",
      "Epoch 3/100\n",
      "659/659 [==============================] - 0s 209us/sample - loss: -12.6670 - accuracy: 0.0000e+00 - val_loss: -11.6906 - val_accuracy: 0.0061\n",
      "Epoch 4/100\n",
      "659/659 [==============================] - 0s 143us/sample - loss: -16.6913 - accuracy: 0.0000e+00 - val_loss: -14.8660 - val_accuracy: 0.0061\n",
      "Epoch 5/100\n",
      "659/659 [==============================] - 0s 111us/sample - loss: -20.9421 - accuracy: 0.0000e+00 - val_loss: -18.2004 - val_accuracy: 0.0061\n",
      "Epoch 6/100\n",
      "659/659 [==============================] - 0s 91us/sample - loss: -25.1325 - accuracy: 0.0000e+00 - val_loss: -21.8587 - val_accuracy: 0.0061\n",
      "Epoch 7/100\n",
      "659/659 [==============================] - 0s 79us/sample - loss: -30.0387 - accuracy: 0.0000e+00 - val_loss: -25.7575 - val_accuracy: 0.0061\n",
      "Epoch 8/100\n",
      "659/659 [==============================] - 0s 62us/sample - loss: -35.3382 - accuracy: 0.0000e+00 - val_loss: -29.8784 - val_accuracy: 0.0061\n",
      "Epoch 9/100\n",
      "659/659 [==============================] - 0s 79us/sample - loss: -40.7341 - accuracy: 0.0000e+00 - val_loss: -34.4151 - val_accuracy: 0.0061\n",
      "Epoch 10/100\n",
      "659/659 [==============================] - 0s 82us/sample - loss: -46.7527 - accuracy: 0.0000e+00 - val_loss: -39.2938 - val_accuracy: 0.0061\n",
      "Epoch 11/100\n",
      "659/659 [==============================] - 0s 88us/sample - loss: -53.3221 - accuracy: 0.0000e+00 - val_loss: -44.7502 - val_accuracy: 0.0061\n",
      "Epoch 12/100\n",
      "659/659 [==============================] - 0s 90us/sample - loss: -60.7079 - accuracy: 0.0000e+00 - val_loss: -50.6144 - val_accuracy: 0.0061\n",
      "Epoch 13/100\n",
      "659/659 [==============================] - 0s 86us/sample - loss: -68.7212 - accuracy: 0.0000e+00 - val_loss: -57.1472 - val_accuracy: 0.0061\n",
      "Epoch 14/100\n",
      "659/659 [==============================] - 0s 70us/sample - loss: -77.6616 - accuracy: 0.0000e+00 - val_loss: -64.2379 - val_accuracy: 0.0061\n",
      "Epoch 15/100\n",
      "659/659 [==============================] - 0s 82us/sample - loss: -87.2840 - accuracy: 0.0000e+00 - val_loss: -71.6288 - val_accuracy: 0.0061\n",
      "Epoch 16/100\n",
      "659/659 [==============================] - 0s 83us/sample - loss: -97.3976 - accuracy: 0.0000e+00 - val_loss: -79.5537 - val_accuracy: 0.0061\n",
      "Epoch 17/100\n",
      "659/659 [==============================] - 0s 76us/sample - loss: -108.0986 - accuracy: 0.0000e+00 - val_loss: -88.1858 - val_accuracy: 0.0061\n",
      "Epoch 18/100\n",
      "659/659 [==============================] - 0s 70us/sample - loss: -119.8574 - accuracy: 0.0000e+00 - val_loss: -97.2858 - val_accuracy: 0.0061\n",
      "Epoch 19/100\n",
      "659/659 [==============================] - 0s 68us/sample - loss: -132.3053 - accuracy: 0.0000e+00 - val_loss: -107.0788 - val_accuracy: 0.0061\n",
      "Epoch 20/100\n",
      "659/659 [==============================] - 0s 74us/sample - loss: -145.6417 - accuracy: 0.0000e+00 - val_loss: -117.6633 - val_accuracy: 0.0061\n",
      "Epoch 21/100\n",
      "659/659 [==============================] - 0s 100us/sample - loss: -160.8106 - accuracy: 0.0000e+00 - val_loss: -129.2987 - val_accuracy: 0.0061\n",
      "Epoch 22/100\n",
      "659/659 [==============================] - 0s 65us/sample - loss: -176.0395 - accuracy: 0.0000e+00 - val_loss: -141.9603 - val_accuracy: 0.0061\n",
      "Epoch 23/100\n",
      "659/659 [==============================] - 0s 100us/sample - loss: -193.2647 - accuracy: 0.0000e+00 - val_loss: -155.0708 - val_accuracy: 0.0061\n",
      "Epoch 24/100\n",
      "659/659 [==============================] - 0s 96us/sample - loss: -210.8670 - accuracy: 0.0000e+00 - val_loss: -169.2434 - val_accuracy: 0.0061\n",
      "Epoch 25/100\n",
      "659/659 [==============================] - 0s 65us/sample - loss: -230.3888 - accuracy: 0.0000e+00 - val_loss: -184.2015 - val_accuracy: 0.0061\n",
      "Epoch 26/100\n",
      "659/659 [==============================] - 0s 80us/sample - loss: -250.9037 - accuracy: 0.0000e+00 - val_loss: -200.5956 - val_accuracy: 0.0061\n",
      "Epoch 27/100\n",
      "659/659 [==============================] - 0s 76us/sample - loss: -273.1572 - accuracy: 0.0000e+00 - val_loss: -217.7809 - val_accuracy: 0.0061\n",
      "Epoch 28/100\n",
      "659/659 [==============================] - 0s 53us/sample - loss: -296.6809 - accuracy: 0.0000e+00 - val_loss: -235.8266 - val_accuracy: 0.0061\n",
      "Epoch 29/100\n",
      "659/659 [==============================] - 0s 73us/sample - loss: -320.6784 - accuracy: 0.0000e+00 - val_loss: -255.1672 - val_accuracy: 0.0061\n",
      "Epoch 30/100\n",
      "659/659 [==============================] - 0s 55us/sample - loss: -347.0177 - accuracy: 0.0000e+00 - val_loss: -275.2216 - val_accuracy: 0.0061\n",
      "Epoch 31/100\n",
      "659/659 [==============================] - 0s 74us/sample - loss: -374.1271 - accuracy: 0.0000e+00 - val_loss: -297.0233 - val_accuracy: 0.0061\n",
      "Epoch 32/100\n",
      "659/659 [==============================] - 0s 76us/sample - loss: -402.6951 - accuracy: 0.0000e+00 - val_loss: -319.7639 - val_accuracy: 0.0061\n",
      "Epoch 33/100\n",
      "659/659 [==============================] - 0s 59us/sample - loss: -432.8701 - accuracy: 0.0000e+00 - val_loss: -343.9860 - val_accuracy: 0.0061\n",
      "Epoch 34/100\n",
      "659/659 [==============================] - 0s 62us/sample - loss: -465.6299 - accuracy: 0.0000e+00 - val_loss: -369.9474 - val_accuracy: 0.0061\n",
      "Epoch 35/100\n",
      "659/659 [==============================] - 0s 53us/sample - loss: -500.3713 - accuracy: 0.0000e+00 - val_loss: -396.8862 - val_accuracy: 0.0061\n",
      "Epoch 36/100\n",
      "659/659 [==============================] - 0s 68us/sample - loss: -536.3898 - accuracy: 0.0000e+00 - val_loss: -425.6712 - val_accuracy: 0.0061\n",
      "Epoch 37/100\n",
      "659/659 [==============================] - 0s 50us/sample - loss: -576.1674 - accuracy: 0.0000e+00 - val_loss: -456.0040 - val_accuracy: 0.0061\n",
      "Epoch 38/100\n",
      "659/659 [==============================] - ETA: 0s - loss: -485.0420 - accuracy: 0.0000e+0 - 0s 80us/sample - loss: -616.5204 - accuracy: 0.0000e+00 - val_loss: -489.5295 - val_accuracy: 0.0061\n",
      "Epoch 39/100\n",
      "659/659 [==============================] - 0s 58us/sample - loss: -661.4775 - accuracy: 0.0000e+00 - val_loss: -524.4557 - val_accuracy: 0.0061\n",
      "Epoch 40/100\n",
      "659/659 [==============================] - 0s 65us/sample - loss: -706.3531 - accuracy: 0.0000e+00 - val_loss: -560.4994 - val_accuracy: 0.0061\n",
      "Epoch 41/100\n",
      "659/659 [==============================] - 0s 52us/sample - loss: -754.4611 - accuracy: 0.0000e+00 - val_loss: -597.1388 - val_accuracy: 0.0061\n",
      "Epoch 42/100\n",
      "659/659 [==============================] - 0s 62us/sample - loss: -803.1793 - accuracy: 0.0000e+00 - val_loss: -636.2196 - val_accuracy: 0.0061\n",
      "Epoch 43/100\n",
      "659/659 [==============================] - 0s 111us/sample - loss: -856.4945 - accuracy: 0.0000e+00 - val_loss: -677.3504 - val_accuracy: 0.0061\n",
      "Epoch 44/100\n",
      "659/659 [==============================] - 0s 58us/sample - loss: -911.1609 - accuracy: 0.0000e+00 - val_loss: -719.7953 - val_accuracy: 0.0061\n",
      "Epoch 45/100\n",
      "659/659 [==============================] - 0s 49us/sample - loss: -967.0129 - accuracy: 0.0000e+00 - val_loss: -763.8706 - val_accuracy: 0.0061\n",
      "Epoch 46/100\n",
      "659/659 [==============================] - 0s 131us/sample - loss: -1026.0014 - accuracy: 0.0000e+00 - val_loss: -810.7446 - val_accuracy: 0.0061\n",
      "Epoch 47/100\n",
      "659/659 [==============================] - 0s 61us/sample - loss: -1088.0539 - accuracy: 0.0000e+00 - val_loss: -858.4433 - val_accuracy: 0.0061\n",
      "Epoch 48/100\n",
      "659/659 [==============================] - 0s 59us/sample - loss: -1149.0928 - accuracy: 0.0000e+00 - val_loss: -908.8096 - val_accuracy: 0.0061\n",
      "Epoch 49/100\n",
      "659/659 [==============================] - 0s 55us/sample - loss: -1218.6439 - accuracy: 0.0000e+00 - val_loss: -959.0515 - val_accuracy: 0.0061\n",
      "Epoch 50/100\n",
      "659/659 [==============================] - 0s 61us/sample - loss: -1284.2951 - accuracy: 0.0000e+00 - val_loss: -1012.4091 - val_accuracy: 0.0061\n",
      "Epoch 51/100\n",
      "659/659 [==============================] - 0s 61us/sample - loss: -1355.7622 - accuracy: 0.0000e+00 - val_loss: -1067.8143 - val_accuracy: 0.0061\n",
      "Epoch 52/100\n",
      "659/659 [==============================] - 0s 59us/sample - loss: -1428.3140 - accuracy: 0.0000e+00 - val_loss: -1127.9294 - val_accuracy: 0.0061\n"
     ]
    },
    {
     "name": "stdout",
     "output_type": "stream",
     "text": [
      "Epoch 53/100\n",
      "659/659 [==============================] - 0s 62us/sample - loss: -1507.8062 - accuracy: 0.0000e+00 - val_loss: -1190.7045 - val_accuracy: 0.0061\n",
      "Epoch 54/100\n",
      "659/659 [==============================] - 0s 58us/sample - loss: -1588.9166 - accuracy: 0.0000e+00 - val_loss: -1255.6576 - val_accuracy: 0.0061\n",
      "Epoch 55/100\n",
      "659/659 [==============================] - 0s 59us/sample - loss: -1675.9499 - accuracy: 0.0000e+00 - val_loss: -1323.4090 - val_accuracy: 0.0061\n",
      "Epoch 56/100\n",
      "659/659 [==============================] - 0s 68us/sample - loss: -1763.8053 - accuracy: 0.0000e+00 - val_loss: -1394.0464 - val_accuracy: 0.0061\n",
      "Epoch 57/100\n",
      "659/659 [==============================] - 0s 52us/sample - loss: -1858.3110 - accuracy: 0.0000e+00 - val_loss: -1463.9768 - val_accuracy: 0.0061\n",
      "Epoch 58/100\n",
      "659/659 [==============================] - 0s 59us/sample - loss: -1950.4476 - accuracy: 0.0000e+00 - val_loss: -1537.3792 - val_accuracy: 0.0061\n",
      "Epoch 59/100\n",
      "659/659 [==============================] - 0s 50us/sample - loss: -2044.4210 - accuracy: 0.0000e+00 - val_loss: -1617.5776 - val_accuracy: 0.0061\n",
      "Epoch 60/100\n",
      "659/659 [==============================] - 0s 55us/sample - loss: -2145.4034 - accuracy: 0.0000e+00 - val_loss: -1697.9467 - val_accuracy: 0.0061\n",
      "Epoch 61/100\n",
      "659/659 [==============================] - 0s 61us/sample - loss: -2251.1499 - accuracy: 0.0000e+00 - val_loss: -1777.7281 - val_accuracy: 0.0061\n",
      "Epoch 62/100\n",
      "659/659 [==============================] - 0s 59us/sample - loss: -2356.5262 - accuracy: 0.0000e+00 - val_loss: -1859.9381 - val_accuracy: 0.0061\n",
      "Epoch 63/100\n",
      "659/659 [==============================] - 0s 59us/sample - loss: -2466.7790 - accuracy: 0.0000e+00 - val_loss: -1949.2615 - val_accuracy: 0.0061\n",
      "Epoch 64/100\n",
      "659/659 [==============================] - 0s 70us/sample - loss: -2577.6444 - accuracy: 0.0000e+00 - val_loss: -2040.6711 - val_accuracy: 0.0061\n",
      "Epoch 65/100\n",
      "659/659 [==============================] - 0s 53us/sample - loss: -2698.3333 - accuracy: 0.0000e+00 - val_loss: -2132.0384 - val_accuracy: 0.0061\n",
      "Epoch 66/100\n",
      "659/659 [==============================] - 0s 56us/sample - loss: -2819.4838 - accuracy: 0.0000e+00 - val_loss: -2224.2754 - val_accuracy: 0.0061\n",
      "Epoch 67/100\n",
      "659/659 [==============================] - 0s 82us/sample - loss: -2938.1126 - accuracy: 0.0000e+00 - val_loss: -2321.3693 - val_accuracy: 0.0061\n",
      "Epoch 68/100\n",
      "659/659 [==============================] - 0s 42us/sample - loss: -3065.7390 - accuracy: 0.0000e+00 - val_loss: -2424.1651 - val_accuracy: 0.0061\n",
      "Epoch 69/100\n",
      "659/659 [==============================] - 0s 56us/sample - loss: -3199.5899 - accuracy: 0.0000e+00 - val_loss: -2530.9009 - val_accuracy: 0.0061\n",
      "Epoch 70/100\n",
      "659/659 [==============================] - 0s 55us/sample - loss: -3336.1582 - accuracy: 0.0000e+00 - val_loss: -2639.2139 - val_accuracy: 0.0061\n",
      "Epoch 71/100\n",
      "659/659 [==============================] - 0s 74us/sample - loss: -3478.3825 - accuracy: 0.0000e+00 - val_loss: -2750.9369 - val_accuracy: 0.0061\n",
      "Epoch 72/100\n",
      "659/659 [==============================] - 0s 50us/sample - loss: -3628.8774 - accuracy: 0.0000e+00 - val_loss: -2871.1038 - val_accuracy: 0.0061\n",
      "Epoch 73/100\n",
      "659/659 [==============================] - 0s 55us/sample - loss: -3780.5756 - accuracy: 0.0000e+00 - val_loss: -2996.8184 - val_accuracy: 0.0061\n",
      "Epoch 74/100\n",
      "659/659 [==============================] - 0s 49us/sample - loss: -3946.0839 - accuracy: 0.0000e+00 - val_loss: -3122.2989 - val_accuracy: 0.0061\n",
      "Epoch 75/100\n",
      "659/659 [==============================] - 0s 47us/sample - loss: -4108.0007 - accuracy: 0.0000e+00 - val_loss: -3250.6581 - val_accuracy: 0.0061\n",
      "Epoch 76/100\n",
      "659/659 [==============================] - 0s 53us/sample - loss: -4273.9418 - accuracy: 0.0000e+00 - val_loss: -3380.6317 - val_accuracy: 0.0061\n",
      "Epoch 77/100\n",
      "659/659 [==============================] - 0s 41us/sample - loss: -4443.5082 - accuracy: 0.0000e+00 - val_loss: -3512.9564 - val_accuracy: 0.0061\n",
      "Epoch 78/100\n",
      "659/659 [==============================] - 0s 42us/sample - loss: -4621.5216 - accuracy: 0.0000e+00 - val_loss: -3652.1634 - val_accuracy: 0.0061\n",
      "Epoch 79/100\n",
      "659/659 [==============================] - 0s 46us/sample - loss: -4798.7705 - accuracy: 0.0000e+00 - val_loss: -3790.9655 - val_accuracy: 0.0061\n",
      "Epoch 80/100\n",
      "659/659 [==============================] - 0s 49us/sample - loss: -4975.3816 - accuracy: 0.0000e+00 - val_loss: -3935.7086 - val_accuracy: 0.0061\n",
      "Epoch 81/100\n",
      "659/659 [==============================] - 0s 39us/sample - loss: -5162.0770 - accuracy: 0.0000e+00 - val_loss: -4080.8560 - val_accuracy: 0.0061\n",
      "Epoch 82/100\n",
      "659/659 [==============================] - 0s 39us/sample - loss: -5347.2242 - accuracy: 0.0000e+00 - val_loss: -4229.3783 - val_accuracy: 0.0061\n",
      "Epoch 83/100\n",
      "659/659 [==============================] - 0s 42us/sample - loss: -5542.7794 - accuracy: 0.0000e+00 - val_loss: -4388.9049 - val_accuracy: 0.0061\n",
      "Epoch 84/100\n",
      "659/659 [==============================] - 0s 44us/sample - loss: -5748.6326 - accuracy: 0.0000e+00 - val_loss: -4554.8666 - val_accuracy: 0.0061\n",
      "Epoch 85/100\n",
      "659/659 [==============================] - 0s 53us/sample - loss: -5964.3156 - accuracy: 0.0000e+00 - val_loss: -4727.0250 - val_accuracy: 0.0061\n",
      "Epoch 86/100\n",
      "659/659 [==============================] - 0s 49us/sample - loss: -6184.9786 - accuracy: 0.0000e+00 - val_loss: -4900.0021 - val_accuracy: 0.0061\n",
      "Epoch 87/100\n",
      "659/659 [==============================] - 0s 42us/sample - loss: -6408.8177 - accuracy: 0.0000e+00 - val_loss: -5072.0100 - val_accuracy: 0.0061\n",
      "Epoch 88/100\n",
      "659/659 [==============================] - 0s 50us/sample - loss: -6632.4414 - accuracy: 0.0000e+00 - val_loss: -5248.7247 - val_accuracy: 0.0061\n",
      "Epoch 89/100\n",
      "659/659 [==============================] - 0s 42us/sample - loss: -6858.1724 - accuracy: 0.0000e+00 - val_loss: -5441.1511 - val_accuracy: 0.0061\n",
      "Epoch 90/100\n",
      "659/659 [==============================] - 0s 52us/sample - loss: -7104.0914 - accuracy: 0.0000e+00 - val_loss: -5637.3778 - val_accuracy: 0.0061\n",
      "Epoch 91/100\n",
      "659/659 [==============================] - 0s 52us/sample - loss: -7357.6346 - accuracy: 0.0000e+00 - val_loss: -5830.1150 - val_accuracy: 0.0061\n",
      "Epoch 92/100\n",
      "659/659 [==============================] - 0s 39us/sample - loss: -7602.9244 - accuracy: 0.0000e+00 - val_loss: -6031.9942 - val_accuracy: 0.0061\n",
      "Epoch 93/100\n",
      "659/659 [==============================] - 0s 58us/sample - loss: -7864.6162 - accuracy: 0.0000e+00 - val_loss: -6233.4460 - val_accuracy: 0.0061\n",
      "Epoch 94/100\n",
      "659/659 [==============================] - 0s 49us/sample - loss: -8121.5101 - accuracy: 0.0000e+00 - val_loss: -6437.3896 - val_accuracy: 0.0061\n",
      "Epoch 95/100\n",
      "659/659 [==============================] - 0s 49us/sample - loss: -8381.0537 - accuracy: 0.0000e+00 - val_loss: -6646.0949 - val_accuracy: 0.0061\n",
      "Epoch 96/100\n",
      "659/659 [==============================] - 0s 96us/sample - loss: -8660.6750 - accuracy: 0.0000e+00 - val_loss: -6861.3212 - val_accuracy: 0.0061\n",
      "Epoch 97/100\n",
      "659/659 [==============================] - 0s 49us/sample - loss: -8928.4584 - accuracy: 0.0000e+00 - val_loss: -7086.1057 - val_accuracy: 0.0061\n",
      "Epoch 98/100\n",
      "659/659 [==============================] - 0s 53us/sample - loss: -9225.8283 - accuracy: 0.0000e+00 - val_loss: -7319.9228 - val_accuracy: 0.0061\n",
      "Epoch 99/100\n",
      "659/659 [==============================] - 0s 47us/sample - loss: -9517.2437 - accuracy: 0.0000e+00 - val_loss: -7553.7149 - val_accuracy: 0.0061\n",
      "Epoch 100/100\n",
      "659/659 [==============================] - 0s 86us/sample - loss: -9821.8079 - accuracy: 0.0000e+00 - val_loss: -7793.0112 - val_accuracy: 0.0061\n"
     ]
    },
    {
     "data": {
      "text/plain": [
       "<tensorflow.python.keras.callbacks.History at 0x2cd2c248>"
      ]
     },
     "execution_count": 221,
     "metadata": {},
     "output_type": "execute_result"
    }
   ],
   "source": [
    "# model.fit(X_train, y_train, epochs=100, shuffle=True, verbose =1)\n",
    "#model.fit(X_train, y_train, epochs=100, batch_size=10)\n",
    "\n",
    "model.fit(x_train, y_train,epochs=100,batch_size=128,validation_split=0.2)"
   ]
  },
  {
   "cell_type": "markdown",
   "metadata": {},
   "source": [
    "# Evaluation Step"
   ]
  },
  {
   "cell_type": "code",
   "execution_count": 222,
   "metadata": {},
   "outputs": [
    {
     "name": "stdout",
     "output_type": "stream",
     "text": [
      "206/206 [==============================] - 0s 1ms/sample - loss: 43227.2703 - accuracy: 0.0000e+00\n"
     ]
    },
    {
     "data": {
      "text/plain": [
       "0.0"
      ]
     },
     "execution_count": 222,
     "metadata": {},
     "output_type": "execute_result"
    }
   ],
   "source": [
    "#accuracy = model.evaluate(features,target)\n",
    "model.evaluate(X_test, Y_test)[1]\n",
    "#print('acc: %.2f' % (accuracy*100))"
   ]
  },
  {
   "cell_type": "code",
   "execution_count": 223,
   "metadata": {},
   "outputs": [
    {
     "data": {
      "text/plain": [
       "array([[540.  ,   0.  ,   0.  , ..., 676.  ,  28.  ,  79.99],\n",
       "       [540.  ,   0.  ,   0.  , ..., 676.  ,  28.  ,  61.89],\n",
       "       [332.5 , 142.5 ,   0.  , ..., 594.  , 270.  ,  40.27],\n",
       "       ...,\n",
       "       [148.5 , 139.4 , 108.6 , ..., 780.  ,  28.  ,  23.7 ],\n",
       "       [159.1 , 186.7 ,   0.  , ..., 788.9 ,  28.  ,  32.77],\n",
       "       [260.9 , 100.5 ,  78.3 , ..., 761.5 ,  28.  ,  32.4 ]])"
      ]
     },
     "execution_count": 223,
     "metadata": {},
     "output_type": "execute_result"
    }
   ],
   "source": [
    "dataframe.values"
   ]
  },
  {
   "cell_type": "markdown",
   "metadata": {},
   "source": [
    "# Prediction"
   ]
  },
  {
   "cell_type": "code",
   "execution_count": 224,
   "metadata": {},
   "outputs": [],
   "source": [
    "from sklearn import ensemble\n",
    "from sklearn.metrics import r2_score"
   ]
  },
  {
   "cell_type": "code",
   "execution_count": 225,
   "metadata": {},
   "outputs": [],
   "source": [
    "params = {'n_estimators': 500, 'max_depth': 5, 'min_samples_split': 2,\n",
    "          'learning_rate': 0.01, 'loss': 'ls'}"
   ]
  },
  {
   "cell_type": "code",
   "execution_count": 226,
   "metadata": {},
   "outputs": [],
   "source": [
    "clf = ensemble.GradientBoostingRegressor(**params)"
   ]
  },
  {
   "cell_type": "code",
   "execution_count": 227,
   "metadata": {},
   "outputs": [
    {
     "data": {
      "text/plain": [
       "GradientBoostingRegressor(alpha=0.9, criterion='friedman_mse', init=None,\n",
       "                          learning_rate=0.01, loss='ls', max_depth=5,\n",
       "                          max_features=None, max_leaf_nodes=None,\n",
       "                          min_impurity_decrease=0.0, min_impurity_split=None,\n",
       "                          min_samples_leaf=1, min_samples_split=2,\n",
       "                          min_weight_fraction_leaf=0.0, n_estimators=500,\n",
       "                          n_iter_no_change=None, presort='auto',\n",
       "                          random_state=None, subsample=1.0, tol=0.0001,\n",
       "                          validation_fraction=0.1, verbose=0, warm_start=False)"
      ]
     },
     "execution_count": 227,
     "metadata": {},
     "output_type": "execute_result"
    }
   ],
   "source": [
    "clf.fit(X_train, y_train)"
   ]
  },
  {
   "cell_type": "code",
   "execution_count": 228,
   "metadata": {},
   "outputs": [
    {
     "name": "stdout",
     "output_type": "stream",
     "text": [
      "0.9999567259927287\n"
     ]
    }
   ],
   "source": [
    "print(r2_score(y_test, clf.predict(X_test)))"
   ]
  },
  {
   "cell_type": "code",
   "execution_count": 229,
   "metadata": {},
   "outputs": [],
   "source": [
    "import seaborn as sns"
   ]
  },
  {
   "cell_type": "code",
   "execution_count": 230,
   "metadata": {},
   "outputs": [
    {
     "data": {
      "text/plain": [
       "<matplotlib.axes._subplots.AxesSubplot at 0x2eb000c8>"
      ]
     },
     "execution_count": 230,
     "metadata": {},
     "output_type": "execute_result"
    },
    {
     "data": {
      "image/png": "[encoded data removed]",
      "text/plain": [
       "<Figure size 432x288 with 2 Axes>"
      ]
     },
     "metadata": {
      "needs_background": "light"
     },
     "output_type": "display_data"
    }
   ],
   "source": [
    "sns.heatmap(dataframe)"
   ]
  },
  {
   "cell_type": "code",
   "execution_count": null,
   "metadata": {},
   "outputs": [],
   "source": []
  }
 ],
 "metadata": {
  "kernelspec": {
   "display_name": "Python 3",
   "language": "python",
   "name": "python3"
  },
  "language_info": {
   "codemirror_mode": {
    "name": "ipython",
    "version": 3
   },
   "file_extension": ".py",
   "mimetype": "text/x-python",
   "name": "python",
   "nbconvert_exporter": "python",
   "pygments_lexer": "ipython3",
   "version": "3.7.4"
  }
 },
 "nbformat": 4,
 "nbformat_minor": 2
}
